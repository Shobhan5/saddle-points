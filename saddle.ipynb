{
 "cells": [
  {
   "cell_type": "code",
   "execution_count": 1,
   "id": "5baeccd7-94ea-4080-8f6f-c7956733b3b2",
   "metadata": {
    "tags": []
   },
   "outputs": [
    {
     "name": "stdout",
     "output_type": "stream",
     "text": [
      "the saddle point of row 1 and column 1 is 4\n",
      "no saddle point in row 1 and column 2\n",
      "no saddle point in row 1 and column 3\n",
      "no saddle point in row 2 and column 1\n",
      "no saddle point in row 2 and column 2\n",
      "no saddle point in row 2 and column 3\n",
      "no saddle point in row 3 and column 1\n",
      "the saddle point of row 3 and column 2 is 6\n",
      "no saddle point in row 3 and column 3\n"
     ]
    }
   ],
   "source": [
    "import numpy as np\n",
    "\n",
    "a = np.mat([[4, 3, 2], [5, 4, 5], [7, 6, 7]], dtype=np.int64)\n",
    "a_array = np.array(a)\n",
    "rows=len(a_array)\n",
    "cols=len(a_array[0])\n",
    "for i in range(rows):\n",
    "    for j in range(cols):\n",
    "        minimum_column = min(a_array[:,j])\n",
    "        minimum_row=min(a_array[i,:])\n",
    "        maximum_row=max(a_array[i,:])\n",
    "        maximum_column=max(a_array[:,j])\n",
    "        if minimum_column==maximum_row:\n",
    "            print(\"the saddle point of row\",i+1,\"and column\",j+1,\"is\",a_array[i,j])\n",
    "        elif maximum_column==minimum_row:\n",
    "            print(\"the saddle point of row\",i+1,\"and column\",j+1,\"is\",a_array[i,j])\n",
    "        else:\n",
    "            print(\"no saddle point in row\",i+1,\"and column\",j+1)"
   ]
  },
  {
   "cell_type": "code",
   "execution_count": null,
   "id": "88ad63c4-48ee-4bde-a266-5dcce5f5adb4",
   "metadata": {},
   "outputs": [],
   "source": []
  }
 ],
 "metadata": {
  "kernelspec": {
   "display_name": "Python 3 (ipykernel)",
   "language": "python",
   "name": "python3"
  },
  "language_info": {
   "codemirror_mode": {
    "name": "ipython",
    "version": 3
   },
   "file_extension": ".py",
   "mimetype": "text/x-python",
   "name": "python",
   "nbconvert_exporter": "python",
   "pygments_lexer": "ipython3",
   "version": "3.11.5"
  }
 },
 "nbformat": 4,
 "nbformat_minor": 5
}
